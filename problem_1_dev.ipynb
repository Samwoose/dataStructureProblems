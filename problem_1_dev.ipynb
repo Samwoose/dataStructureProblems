{
 "cells": [
  {
   "cell_type": "code",
   "execution_count": 29,
   "metadata": {},
   "outputs": [],
   "source": [
    "class DoubleNode:\n",
    "    def __init__(self, value, key):\n",
    "        self.key = key\n",
    "        self.value = value\n",
    "        self.next = None\n",
    "        self.previous = None\n",
    "        \n",
    "class DoublyLinkedList:\n",
    "    def __init__(self):\n",
    "        self.head = None\n",
    "        self.tail = None\n",
    "    \n",
    "    def append(self, value, key):\n",
    "        \n",
    "        # TODO: Implement this method to append to the tail of the list\n",
    "        if self.head is None:\n",
    "            self.head = DoubleNode(value, key)\n",
    "            self.tail = self.head\n",
    "        elif self.tail is self.head and self.tail is not None:\n",
    "            self.tail = DoubleNode(value, key)\n",
    "            self.tail.previous = self.head\n",
    "            self.head.next = self.tail\n",
    "        else:\n",
    "            temp_node = self.tail\n",
    "            self.tail = DoubleNode(value, key)\n",
    "            self.tail.previous = temp_node \n",
    "            temp_node.next = self.tail\n",
    "            \n",
    "    def addHead(self,value, key):\n",
    "        if self.head is None:\n",
    "            self.head = DoubleNode(value, key)\n",
    "            self.tail = self.head\n",
    "        elif self.tail is self.head and self.tail is not None:\n",
    "            new_head = DoubleNode(value, key)\n",
    "            new_head.next = self.head\n",
    "            self.head = new_head\n",
    "            self.tail.previous = self.head\n",
    "        else:\n",
    "            new_head = DoubleNode(value, key)\n",
    "            new_head.next = self.head\n",
    "            self.head.previous = new_head\n",
    "            self.head = new_head\n",
    "            \n",
    "    def removeTail(self):\n",
    "        if self.tail is self.head and self.tail is not None:\n",
    "            self.head = None\n",
    "            self.tail = None\n",
    "        elif self.head is None:\n",
    "            return\n",
    "        else:\n",
    "            new_tail = self.tail.previous\n",
    "            new_tail.next = None\n",
    "            self.tail.previous = None\n",
    "            self.tail = new_tail\n",
    "            \n",
    "    def removeMiddle(self,middleNode):\n",
    "        previousNode = middleNode.previous\n",
    "        nextNode = middleNode.next\n",
    "        \n",
    "        #reconnecting\n",
    "        previousNode.next = nextNode\n",
    "        nextNode.previous = previousNode\n",
    "        \n",
    "        #remove connection in middle node\n",
    "        middleNode.next = None\n",
    "        middleNode.previous = None\n",
    "        \n",
    "    def removeHead(self):\n",
    "        if self.tail is self.head and self.tail is not None:\n",
    "            self.head = None\n",
    "            self.tail = None\n",
    "        elif self.head is None:\n",
    "            return\n",
    "        else:\n",
    "            new_head = self.head.next\n",
    "            new_head.previous = None\n",
    "            self.head.next = None\n",
    "            self.head = new_head\n",
    "            \n",
    "    def to_list(self):\n",
    "        out_list = []\n",
    "\n",
    "        node = self.head\n",
    "        while node:\n",
    "            out_list.append([node.key,node.value])\n",
    "            node = node.next\n",
    "\n",
    "        return out_list\n",
    "            \n",
    "            \n",
    "    "
   ]
  },
  {
   "cell_type": "code",
   "execution_count": 56,
   "metadata": {},
   "outputs": [],
   "source": [
    "class LRU_Cache(object):\n",
    "\n",
    "    def __init__(self, capacity):\n",
    "        # Initialize class variables\n",
    "        self.capacity = capacity\n",
    "        self.doublell = DoublyLinkedList()\n",
    "        self.keyLocDict = {}\n",
    "\n",
    "    def get(self, key):\n",
    "        # Retrieve item from provided key. Return -1 if nonexistent. \n",
    "        if key in self.keyLocDict:\n",
    "            temp_node = self.keyLocDict[key]\n",
    "            temp_value = temp_node.value\n",
    "            \n",
    "            #remove the existing node and add it as most recently used cache \n",
    "            self.removeHelper(temp_node)\n",
    "            self.doublell.addHead(temp_value,key)\n",
    "            \n",
    "            #update new node location\n",
    "            self.keyLocDict[key] = self.doublell.head\n",
    "            \n",
    "            return self.keyLocDict[key].value\n",
    "        else:\n",
    "            return -1\n",
    "    def removeHelper(self,targetNode):\n",
    "        if targetNode is self.doublell.head and targetNode is self.doublell.tail:\n",
    "            self.doublell.removeTail()\n",
    "        elif targetNode is self.doublell.head and targetNode is not self.doublell.tail:\n",
    "            self.doublell.removeHead()\n",
    "        elif targetNode is not self.doublell.head and targetNode is self.doublell.tail:\n",
    "            self.doublell.removeTail()\n",
    "        else:\n",
    "            self.doublell.removeMiddle(targetNode)\n",
    "        \n",
    "    \n",
    "    def set(self, key, value):\n",
    "        # Set the value if the key is not present in the cache. If the cache is at capacity remove the oldest item. \n",
    "        if key not in self.keyLocDict:\n",
    "            if len(self.keyLocDict) < self.capacity:\n",
    "                #print('here1')\n",
    "                self.doublell.addHead(value,key)\n",
    "                self.keyLocDict[key] = self.doublell.head\n",
    "                #print(self.doublell.to_list())\n",
    "                #print(self.keyLocDict)\n",
    "            else:\n",
    "                #print('here2')\n",
    "                LRUKey = self.doublell.tail.key\n",
    "                \n",
    "                #remove the least recently used key and its value from doubly ll and hash map\n",
    "                self.doublell.removeTail()\n",
    "                del self.keyLocDict[LRUKey]\n",
    "                \n",
    "                #add new key and value\n",
    "                self.doublell.addHead(value,key)\n",
    "                self.keyLocDict[key] = self.doublell.head\n",
    "        else:\n",
    "            return    "
   ]
  },
  {
   "cell_type": "code",
   "execution_count": 59,
   "metadata": {},
   "outputs": [
    {
     "name": "stdout",
     "output_type": "stream",
     "text": [
      "here1\n",
      "[[1, 1]]\n",
      "{1: <__main__.DoubleNode object at 0x000002BCB18F2E48>}\n",
      "here1\n",
      "[[2, 2], [1, 1]]\n",
      "{1: <__main__.DoubleNode object at 0x000002BCB18F2E48>, 2: <__main__.DoubleNode object at 0x000002BCB1870348>}\n",
      "here1\n",
      "[[3, 3], [2, 2], [1, 1]]\n",
      "{1: <__main__.DoubleNode object at 0x000002BCB18F2E48>, 2: <__main__.DoubleNode object at 0x000002BCB1870348>, 3: <__main__.DoubleNode object at 0x000002BCB18F25C8>}\n",
      "here1\n",
      "[[4, 4], [3, 3], [2, 2], [1, 1]]\n",
      "{1: <__main__.DoubleNode object at 0x000002BCB18F2E48>, 2: <__main__.DoubleNode object at 0x000002BCB1870348>, 3: <__main__.DoubleNode object at 0x000002BCB18F25C8>, 4: <__main__.DoubleNode object at 0x000002BCB18F2288>}\n",
      "1\n",
      "2\n",
      "-1\n"
     ]
    }
   ],
   "source": [
    "our_cache = LRU_Cache(5)\n",
    "\n",
    "our_cache.set(1, 1);\n",
    "our_cache.set(2, 2);\n",
    "our_cache.set(3, 3);\n",
    "our_cache.set(4, 4);\n",
    "\n",
    "\n",
    "print(our_cache.get(1))       # returns 1\n",
    "print(our_cache.get(2))       # returns 2\n",
    "print(our_cache.get(9))      # returns -1 because 9 is not present in the cache\n"
   ]
  },
  {
   "cell_type": "code",
   "execution_count": 60,
   "metadata": {},
   "outputs": [
    {
     "name": "stdout",
     "output_type": "stream",
     "text": [
      "here1\n",
      "[[5, 5], [2, 2], [1, 1], [4, 4], [3, 3]]\n",
      "{1: <__main__.DoubleNode object at 0x000002BCB18F2488>, 2: <__main__.DoubleNode object at 0x000002BCB18F2608>, 3: <__main__.DoubleNode object at 0x000002BCB18F25C8>, 4: <__main__.DoubleNode object at 0x000002BCB18F2288>, 5: <__main__.DoubleNode object at 0x000002BCB18F7E48>}\n",
      "here2\n"
     ]
    }
   ],
   "source": [
    "our_cache.set(5, 5) \n",
    "our_cache.set(6, 6)"
   ]
  },
  {
   "cell_type": "code",
   "execution_count": 61,
   "metadata": {},
   "outputs": [
    {
     "data": {
      "text/plain": [
       "-1"
      ]
     },
     "execution_count": 61,
     "metadata": {},
     "output_type": "execute_result"
    }
   ],
   "source": [
    "our_cache.get(3)      # returns -1 because the cache reached it's capacity and 3 was the least recently used entry\n"
   ]
  },
  {
   "cell_type": "code",
   "execution_count": 5,
   "metadata": {},
   "outputs": [],
   "source": [
    "ll.addHead(2,2)"
   ]
  },
  {
   "cell_type": "code",
   "execution_count": 6,
   "metadata": {},
   "outputs": [],
   "source": [
    "ll.addHead(3,3)"
   ]
  },
  {
   "cell_type": "code",
   "execution_count": 7,
   "metadata": {},
   "outputs": [
    {
     "data": {
      "text/plain": [
       "[[3, 3], [2, 2], [1, 1]]"
      ]
     },
     "execution_count": 7,
     "metadata": {},
     "output_type": "execute_result"
    }
   ],
   "source": [
    "ll.to_list()"
   ]
  },
  {
   "cell_type": "code",
   "execution_count": 8,
   "metadata": {},
   "outputs": [],
   "source": [
    "ll.removeHead()"
   ]
  },
  {
   "cell_type": "code",
   "execution_count": 9,
   "metadata": {},
   "outputs": [
    {
     "data": {
      "text/plain": [
       "[[2, 2], [1, 1]]"
      ]
     },
     "execution_count": 9,
     "metadata": {},
     "output_type": "execute_result"
    }
   ],
   "source": [
    "ll.to_list()"
   ]
  },
  {
   "cell_type": "code",
   "execution_count": 10,
   "metadata": {},
   "outputs": [
    {
     "data": {
      "text/plain": [
       "[[1, 1]]"
      ]
     },
     "execution_count": 10,
     "metadata": {},
     "output_type": "execute_result"
    }
   ],
   "source": [
    "ll.removeHead()\n",
    "ll.to_list()"
   ]
  },
  {
   "cell_type": "code",
   "execution_count": 11,
   "metadata": {},
   "outputs": [
    {
     "data": {
      "text/plain": [
       "[]"
      ]
     },
     "execution_count": 11,
     "metadata": {},
     "output_type": "execute_result"
    }
   ],
   "source": [
    "ll.removeHead()\n",
    "ll.to_list()"
   ]
  },
  {
   "cell_type": "code",
   "execution_count": 12,
   "metadata": {},
   "outputs": [
    {
     "data": {
      "text/plain": [
       "[]"
      ]
     },
     "execution_count": 12,
     "metadata": {},
     "output_type": "execute_result"
    }
   ],
   "source": [
    "ll.removeHead()\n",
    "ll.to_list()"
   ]
  },
  {
   "cell_type": "code",
   "execution_count": 13,
   "metadata": {},
   "outputs": [
    {
     "data": {
      "text/plain": [
       "[[1, 1]]"
      ]
     },
     "execution_count": 13,
     "metadata": {},
     "output_type": "execute_result"
    }
   ],
   "source": [
    "ll.addHead(1,1)\n",
    "ll.to_list()"
   ]
  },
  {
   "cell_type": "code",
   "execution_count": 14,
   "metadata": {},
   "outputs": [
    {
     "data": {
      "text/plain": [
       "[[2, 2], [1, 1]]"
      ]
     },
     "execution_count": 14,
     "metadata": {},
     "output_type": "execute_result"
    }
   ],
   "source": [
    "ll.addHead(2,2)\n",
    "ll.to_list()"
   ]
  },
  {
   "cell_type": "code",
   "execution_count": 15,
   "metadata": {},
   "outputs": [
    {
     "data": {
      "text/plain": [
       "[[3, 3], [2, 2], [1, 1]]"
      ]
     },
     "execution_count": 15,
     "metadata": {},
     "output_type": "execute_result"
    }
   ],
   "source": [
    "ll.addHead(3,3)\n",
    "ll.to_list()"
   ]
  },
  {
   "cell_type": "code",
   "execution_count": 16,
   "metadata": {},
   "outputs": [
    {
     "data": {
      "text/plain": [
       "[[4, 4], [3, 3], [2, 2], [1, 1]]"
      ]
     },
     "execution_count": 16,
     "metadata": {},
     "output_type": "execute_result"
    }
   ],
   "source": [
    "ll.addHead(4,4)\n",
    "ll.to_list()"
   ]
  },
  {
   "cell_type": "code",
   "execution_count": 17,
   "metadata": {},
   "outputs": [
    {
     "data": {
      "text/plain": [
       "[[4, 4], [3, 3], [2, 2]]"
      ]
     },
     "execution_count": 17,
     "metadata": {},
     "output_type": "execute_result"
    }
   ],
   "source": [
    "ll.removeTail()\n",
    "ll.to_list()"
   ]
  },
  {
   "cell_type": "code",
   "execution_count": 18,
   "metadata": {},
   "outputs": [
    {
     "data": {
      "text/plain": [
       "[[4, 4], [3, 3]]"
      ]
     },
     "execution_count": 18,
     "metadata": {},
     "output_type": "execute_result"
    }
   ],
   "source": [
    "ll.removeTail()\n",
    "ll.to_list()"
   ]
  },
  {
   "cell_type": "code",
   "execution_count": 19,
   "metadata": {},
   "outputs": [
    {
     "data": {
      "text/plain": [
       "[[4, 4]]"
      ]
     },
     "execution_count": 19,
     "metadata": {},
     "output_type": "execute_result"
    }
   ],
   "source": [
    "ll.removeTail()\n",
    "ll.to_list()"
   ]
  },
  {
   "cell_type": "code",
   "execution_count": 20,
   "metadata": {},
   "outputs": [
    {
     "data": {
      "text/plain": [
       "[]"
      ]
     },
     "execution_count": 20,
     "metadata": {},
     "output_type": "execute_result"
    }
   ],
   "source": [
    "ll.removeTail()\n",
    "ll.to_list()"
   ]
  },
  {
   "cell_type": "code",
   "execution_count": 21,
   "metadata": {},
   "outputs": [
    {
     "data": {
      "text/plain": [
       "[]"
      ]
     },
     "execution_count": 21,
     "metadata": {},
     "output_type": "execute_result"
    }
   ],
   "source": [
    "ll.removeTail()\n",
    "ll.to_list()"
   ]
  },
  {
   "cell_type": "code",
   "execution_count": 22,
   "metadata": {},
   "outputs": [],
   "source": [
    "dict1 = {1:1,2:2}"
   ]
  },
  {
   "cell_type": "code",
   "execution_count": 23,
   "metadata": {},
   "outputs": [],
   "source": [
    "del dict1[1]"
   ]
  },
  {
   "cell_type": "code",
   "execution_count": 24,
   "metadata": {},
   "outputs": [
    {
     "data": {
      "text/plain": [
       "{2: 2}"
      ]
     },
     "execution_count": 24,
     "metadata": {},
     "output_type": "execute_result"
    }
   ],
   "source": [
    "dict1"
   ]
  },
  {
   "cell_type": "code",
   "execution_count": 25,
   "metadata": {},
   "outputs": [
    {
     "data": {
      "text/plain": [
       "1"
      ]
     },
     "execution_count": 25,
     "metadata": {},
     "output_type": "execute_result"
    }
   ],
   "source": [
    "len(dict1)"
   ]
  },
  {
   "cell_type": "code",
   "execution_count": 43,
   "metadata": {},
   "outputs": [],
   "source": [
    "our_cache = LRU_Cache(5)"
   ]
  },
  {
   "cell_type": "code",
   "execution_count": 44,
   "metadata": {},
   "outputs": [],
   "source": [
    "our_cache.set(1, 1);"
   ]
  },
  {
   "cell_type": "code",
   "execution_count": 45,
   "metadata": {},
   "outputs": [],
   "source": [
    "our_cache.set(2, 2);\n",
    "our_cache.set(3, 3);\n",
    "our_cache.set(4, 4);\n"
   ]
  },
  {
   "cell_type": "code",
   "execution_count": 46,
   "metadata": {},
   "outputs": [
    {
     "data": {
      "text/plain": [
       "-1"
      ]
     },
     "execution_count": 46,
     "metadata": {},
     "output_type": "execute_result"
    }
   ],
   "source": [
    "our_cache.get(1)"
   ]
  },
  {
   "cell_type": "code",
   "execution_count": 47,
   "metadata": {},
   "outputs": [
    {
     "data": {
      "text/plain": [
       "{}"
      ]
     },
     "execution_count": 47,
     "metadata": {},
     "output_type": "execute_result"
    }
   ],
   "source": [
    "our_cache.keyLocDict"
   ]
  },
  {
   "cell_type": "code",
   "execution_count": null,
   "metadata": {},
   "outputs": [],
   "source": []
  }
 ],
 "metadata": {
  "kernelspec": {
   "display_name": "Python 3",
   "language": "python",
   "name": "python3"
  },
  "language_info": {
   "codemirror_mode": {
    "name": "ipython",
    "version": 3
   },
   "file_extension": ".py",
   "mimetype": "text/x-python",
   "name": "python",
   "nbconvert_exporter": "python",
   "pygments_lexer": "ipython3",
   "version": "3.7.6"
  }
 },
 "nbformat": 4,
 "nbformat_minor": 4
}
